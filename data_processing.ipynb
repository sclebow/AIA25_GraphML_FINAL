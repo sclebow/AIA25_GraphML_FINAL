{
 "cells": [
  {
   "cell_type": "code",
   "execution_count": 32,
   "id": "c20b9722",
   "metadata": {},
   "outputs": [
    {
     "name": "stdout",
     "output_type": "stream",
     "text": [
      "WBS loaded successfully with 561 rows and 27 columns.\n",
      "Columns in WBS: ['Code, 1', 'Code, 2', 'Code, 3', 'Code, 4', 'Code, 5', 'Code, 6', 'Description', 'Unit', 'Units', 'Consumption', 'Waste Factor', 'Unit Cost', 'Source Qty', 'Unnamed: 13', 'Tag-Uniformat 1', 'Tag-Uniformat 2', 'Tag-Uniformat 3', 'Tag-Uniformat 4', 'Tag-CSI 1', 'Tag-CSI 2', 'Tag-Cost Type', 'Tag-Labor Resource', 'Tag-CSI Resource 1', 'Tag-CSI Resource 2', 'Unnamed: 24', 'Node', 'Unnamed: 26']\n",
      "First few rows of WBS:\n",
      "  Code, 1 Code, 2 Code, 3    Code, 4         Code, 5  Code, 6  \\\n",
      "0       G     NaN     NaN        NaN             NaN      NaN   \n",
      "1     NaN     G10     NaN        NaN             NaN      NaN   \n",
      "2     NaN     NaN     NaN  G1031.001             NaN      NaN   \n",
      "3     NaN     NaN     NaN        NaN  31.23.00.100.0      NaN   \n",
      "4     NaN     NaN     NaN        NaN             NaN  LEXC001   \n",
      "\n",
      "                        Description Unit  Units  Consumption  ...  \\\n",
      "0               BUILDING SITEWORK      -      -        1.000  ...   \n",
      "1                Site Preparation      -      -        1.000  ...   \n",
      "2                      Cut and Fill   CY  CY/CY        1.000  ...   \n",
      "3  Mass Excavation to Reduce levels   CY  CY/CY        1.000  ...   \n",
      "4                  Excavation Labor   HR  HR/CY        0.096  ...   \n",
      "\n",
      "                     Tag-Uniformat 4       Tag-CSI 1  \\\n",
      "0                                NaN             NaN   \n",
      "1                                NaN             NaN   \n",
      "2  G1031 - Site Grading Excavation               NaN   \n",
      "3  G1031 - Site Grading Excavation    31 - EARTHWORK   \n",
      "4  G1031 - Site Grading Excavation    31 - EARTHWORK   \n",
      "\n",
      "                                Tag-CSI 2  Tag-Cost Type Tag-Labor Resource  \\\n",
      "0                                     NaN            NaN                NaN   \n",
      "1                                     NaN            NaN                NaN   \n",
      "2                                     NaN            NaN                NaN   \n",
      "3  31 23 00 - Excavation and Fill                    NaN                NaN   \n",
      "4  31 23 00 - Excavation and Fill                  Labor               LEXC   \n",
      "\n",
      "  Tag-CSI Resource 1 Tag-CSI Resource 2 Unnamed: 24 Node Unnamed: 26  \n",
      "0                NaN                NaN         NaN  1.0         NaN  \n",
      "1                NaN                NaN         NaN  2.0         NaN  \n",
      "2                NaN                NaN         NaN  4.0         NaN  \n",
      "3                NaN                NaN         NaN  5.0         NaN  \n",
      "4                NaN                NaN         NaN  6.0         NaN  \n",
      "\n",
      "[5 rows x 27 columns]\n"
     ]
    }
   ],
   "source": [
    "# This is a python script that parses a user provided csv file with task attributes and dependency information\n",
    "# This file is refered to as the WBS (Work Breakdown Structure)\n",
    "# The script will build a dictionary from the WBS file and create utility functions to access the data and calculate time estimates \n",
    "\n",
    "import pandas as pd\n",
    "\n",
    "WBS_FILE_PATH = 'wbs_data.csv'  # Path to the WBS file\n",
    "\n",
    "def load_wbs(file_path):\n",
    "    \"\"\"\n",
    "    Load the Work Breakdown Structure (WBS) from an Excel file.\n",
    "    \n",
    "    Args:\n",
    "        file_path (str): Path to the Excel file containing the WBS.\n",
    "        \n",
    "    Returns:\n",
    "        pd.DataFrame: DataFrame containing the WBS data.\n",
    "    \"\"\"\n",
    "    try:\n",
    "        wbs_df = pd.read_csv(file_path)\n",
    "\n",
    "        # Print some information about the loaded DataFrame\n",
    "        print(f\"WBS loaded successfully with {len(wbs_df)} rows and {len(wbs_df.columns)} columns.\")\n",
    "        print(\"Columns in WBS:\", wbs_df.columns.tolist())\n",
    "        # Optionally, display the first few rows of the DataFrame\n",
    "        print(\"First few rows of WBS:\")\n",
    "        print(wbs_df.head())\n",
    "\n",
    "        return wbs_df\n",
    "    except Exception as e:\n",
    "        print(f\"Error loading WBS file: {e}\")\n",
    "        return None\n",
    "\n",
    "df = load_wbs(WBS_FILE_PATH)\n",
    "    \n",
    "if df is None:\n",
    "    print(\"Failed to load WBS data.\")\n",
    "    df = pd.DataFrame()  # Create an empty DataFrame if loading fails"
   ]
  },
  {
   "cell_type": "code",
   "execution_count": 33,
   "id": "5544e453",
   "metadata": {},
   "outputs": [
    {
     "name": "stdout",
     "output_type": "stream",
     "text": [
      "Columns after dropping unnecessary ones: ['Code, 6', 'Description', 'Unit', 'Units', 'Consumption', 'Waste Factor', 'Unit Cost', 'Source Qty', 'Tag-Uniformat 1', 'Tag-Uniformat 2', 'Tag-Uniformat 3', 'Tag-Uniformat 4', 'Tag-CSI 1', 'Tag-CSI 2', 'Tag-Cost Type']\n"
     ]
    }
   ],
   "source": [
    "# Drop unnecessary columns\n",
    "columns_to_drop = [\n",
    "    'Code, 1', 'Code, 2', 'Code, 3', 'Code, 4', 'Code, 5', 'Tag-Labor Resource', \n",
    "    'Tag-CSI Resource 1', 'Tag-CSI Resource 2', 'Unnamed: 24', 'Node', 'Unnamed: 26', 'Unnamed: 13'\n",
    "]\n",
    "\n",
    "df.drop(columns=columns_to_drop, inplace=True, errors='ignore')\n",
    "\n",
    "print(\"Columns after dropping unnecessary ones:\", df.columns.tolist())"
   ]
  },
  {
   "cell_type": "code",
   "execution_count": 34,
   "id": "6bd0463c",
   "metadata": {},
   "outputs": [],
   "source": [
    "# Rename 'Code, 6' column to 'task_code'\n",
    "df.rename(columns={'Code, 6': 'task_code'}, inplace=True)"
   ]
  },
  {
   "cell_type": "code",
   "execution_count": 35,
   "id": "6a41dd84",
   "metadata": {},
   "outputs": [
    {
     "name": "stdout",
     "output_type": "stream",
     "text": [
      "Columns after reordering: ['Tag-Uniformat 1', 'Tag-Uniformat 2', 'Tag-Uniformat 3', 'Tag-Uniformat 4', 'Tag-CSI 1', 'Tag-CSI 2', 'Tag-Cost Type', 'task_code', 'Description', 'Unit', 'Units', 'Consumption', 'Waste Factor', 'Unit Cost', 'Source Qty']\n",
      "\n",
      "DataFrame after processing:\n",
      "           Tag-Uniformat 1           Tag-Uniformat 2  \\\n",
      "0  G - BUILDING SITEWORK                         NaN   \n",
      "1  G - BUILDING SITEWORK    G10 - Site Preparation     \n",
      "2  G - BUILDING SITEWORK    G10 - Site Preparation     \n",
      "3  G - BUILDING SITEWORK    G10 - Site Preparation     \n",
      "4  G - BUILDING SITEWORK    G10 - Site Preparation     \n",
      "\n",
      "            Tag-Uniformat 3                    Tag-Uniformat 4  \\\n",
      "0                       NaN                                NaN   \n",
      "1                       NaN                                NaN   \n",
      "2  G1030 - Site Earthwork    G1031 - Site Grading Excavation     \n",
      "3  G1030 - Site Earthwork    G1031 - Site Grading Excavation     \n",
      "4  G1030 - Site Earthwork    G1031 - Site Grading Excavation     \n",
      "\n",
      "        Tag-CSI 1                               Tag-CSI 2 Tag-Cost Type  \\\n",
      "0             NaN                                     NaN           NaN   \n",
      "1             NaN                                     NaN           NaN   \n",
      "2             NaN                                     NaN           NaN   \n",
      "3  31 - EARTHWORK  31 23 00 - Excavation and Fill                   NaN   \n",
      "4  31 - EARTHWORK  31 23 00 - Excavation and Fill                 Labor   \n",
      "\n",
      "  task_code                       Description Unit  Units  Consumption  \\\n",
      "0       NaN               BUILDING SITEWORK      -      -        1.000   \n",
      "1       NaN                Site Preparation      -      -        1.000   \n",
      "2       NaN                      Cut and Fill   CY  CY/CY        1.000   \n",
      "3       NaN  Mass Excavation to Reduce levels   CY  CY/CY        1.000   \n",
      "4   LEXC001                  Excavation Labor   HR  HR/CY        0.096   \n",
      "\n",
      "   Waste Factor  Unit Cost                         Source Qty  \n",
      "0           1.0        0.0                                  1  \n",
      "1           1.0        0.0                                  1  \n",
      "2           1.0        0.0  G1031.001_Cut and Fill.Net Volume  \n",
      "3           1.0        0.0  G1031.001_Cut and Fill.Net Volume  \n",
      "4           1.0        0.0                    Parent.Quantity  \n"
     ]
    }
   ],
   "source": [
    "# Reorder columns to have 'Tag' columns first\n",
    "tag_columns = [col for col in df.columns if col.startswith('Tag-')]\n",
    "other_columns = [col for col in df.columns if not col.startswith('Tag-')]\n",
    "df = df[tag_columns + other_columns]\n",
    "print(\"Columns after reordering:\", df.columns.tolist())\n",
    "print()\n",
    "print(\"DataFrame after processing:\")\n",
    "print(df.head())"
   ]
  },
  {
   "cell_type": "code",
   "execution_count": 36,
   "id": "799ca8f5",
   "metadata": {},
   "outputs": [],
   "source": [
    "# Drop rows with Null values in 'task_code'\n",
    "df.dropna(subset=['task_code'], inplace=True)\n",
    "\n",
    "# Drop rows where the Unit is not 'HR', because we are only interested in tasks measured in hours\n",
    "df = df[df['Unit'] == 'HR']\n",
    "\n",
    "# Reset index after dropping rows\n",
    "df.reset_index(drop=True, inplace=True)"
   ]
  },
  {
   "cell_type": "code",
   "execution_count": 37,
   "id": "fc3be017",
   "metadata": {},
   "outputs": [],
   "source": [
    "# For debugging, save the processed DataFrame to a new CSV file\n",
    "df.to_csv('processed_wbs_data.csv', index=False)"
   ]
  },
  {
   "cell_type": "code",
   "execution_count": null,
   "id": "aa7cf933",
   "metadata": {},
   "outputs": [],
   "source": [
    "# Define a function to calculate the time estimate for each task based on an input\n",
    "def calculate_time_estimate(task_code, input_value, verbose=True) -> float:\n",
    "    \"\"\"\n",
    "    Calculate the time estimate for a given task based on the input value.\n",
    "    \n",
    "    Args:\n",
    "        task_code (str): The code of the task.\n",
    "        input_value (float): The input value to calculate the time estimate.\n",
    "        \n",
    "    Returns:\n",
    "        float: The calculated time estimate for the task.\n",
    "    \"\"\"\n",
    "    task_row = df[df['task_code'] == task_code]\n",
    "    \n",
    "    if task_row.empty:\n",
    "        print(f\"Task code '{task_code}' not found in the WBS.\")\n",
    "        return None\n",
    "    \n",
    "    # If there are multiple rows for the same task code, we can sum the time estimates\n",
    "    # We can assume that the 'Consumption' column contains the time estimates in hours/unit\n",
    "    consumption = task_row['Consumption'].sum()\n",
    "\n",
    "    # Calculate the time estimate based on the input value\n",
    "    time_estimate = consumption * input_value\n",
    "    if verbose:\n",
    "        print(f\"Task code: {task_code}, Consumption: {consumption}, Input value: {input_value}\")\n",
    "    return time_estimate\n"
   ]
  }
 ],
 "metadata": {
  "kernelspec": {
   "display_name": "Python 3",
   "language": "python",
   "name": "python3"
  },
  "language_info": {
   "codemirror_mode": {
    "name": "ipython",
    "version": 3
   },
   "file_extension": ".py",
   "mimetype": "text/x-python",
   "name": "python",
   "nbconvert_exporter": "python",
   "pygments_lexer": "ipython3",
   "version": "3.11.4"
  }
 },
 "nbformat": 4,
 "nbformat_minor": 5
}
