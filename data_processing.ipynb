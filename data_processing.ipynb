{
 "cells": [
  {
   "cell_type": "code",
   "execution_count": 17,
   "id": "c20b9722",
   "metadata": {},
   "outputs": [
    {
     "name": "stdout",
     "output_type": "stream",
     "text": [
      "WBS loaded successfully with 561 rows and 27 columns.\n",
      "Columns in WBS: ['Code, 1', 'Code, 2', 'Code, 3', 'Code, 4', 'Code, 5', 'Code, 6', 'Description', 'Unit', 'Units', 'Consumption', 'Waste Factor', 'Unit Cost', 'Source Qty', 'Unnamed: 13', 'Tag-Uniformat 1', 'Tag-Uniformat 2', 'Tag-Uniformat 3', 'Tag-Uniformat 4', 'Tag-CSI 1', 'Tag-CSI 2', 'Tag-Cost Type', 'Tag-Labor Resource', 'Tag-CSI Resource 1', 'Tag-CSI Resource 2', 'Unnamed: 24', 'Node', 'Unnamed: 26']\n",
      "First few rows of WBS:\n",
      "  Code, 1 Code, 2 Code, 3    Code, 4         Code, 5  Code, 6  \\\n",
      "0       G     NaN     NaN        NaN             NaN      NaN   \n",
      "1     NaN     G10     NaN        NaN             NaN      NaN   \n",
      "2     NaN     NaN     NaN  G1031.001             NaN      NaN   \n",
      "3     NaN     NaN     NaN        NaN  31.23.00.100.0      NaN   \n",
      "4     NaN     NaN     NaN        NaN             NaN  LEXC001   \n",
      "\n",
      "                        Description Unit  Units  Consumption  ...  \\\n",
      "0               BUILDING SITEWORK      -      -        1.000  ...   \n",
      "1                Site Preparation      -      -        1.000  ...   \n",
      "2                      Cut and Fill   CY  CY/CY        1.000  ...   \n",
      "3  Mass Excavation to Reduce levels   CY  CY/CY        1.000  ...   \n",
      "4                  Excavation Labor   HR  HR/CY        0.096  ...   \n",
      "\n",
      "                     Tag-Uniformat 4       Tag-CSI 1  \\\n",
      "0                                NaN             NaN   \n",
      "1                                NaN             NaN   \n",
      "2  G1031 - Site Grading Excavation               NaN   \n",
      "3  G1031 - Site Grading Excavation    31 - EARTHWORK   \n",
      "4  G1031 - Site Grading Excavation    31 - EARTHWORK   \n",
      "\n",
      "                                Tag-CSI 2  Tag-Cost Type Tag-Labor Resource  \\\n",
      "0                                     NaN            NaN                NaN   \n",
      "1                                     NaN            NaN                NaN   \n",
      "2                                     NaN            NaN                NaN   \n",
      "3  31 23 00 - Excavation and Fill                    NaN                NaN   \n",
      "4  31 23 00 - Excavation and Fill                  Labor               LEXC   \n",
      "\n",
      "  Tag-CSI Resource 1 Tag-CSI Resource 2 Unnamed: 24 Node Unnamed: 26  \n",
      "0                NaN                NaN         NaN  1.0         NaN  \n",
      "1                NaN                NaN         NaN  2.0         NaN  \n",
      "2                NaN                NaN         NaN  4.0         NaN  \n",
      "3                NaN                NaN         NaN  5.0         NaN  \n",
      "4                NaN                NaN         NaN  6.0         NaN  \n",
      "\n",
      "[5 rows x 27 columns]\n"
     ]
    }
   ],
   "source": [
    "# This is a python script that parses a user provided csv file with task attributes and dependency information\n",
    "# This file is refered to as the WBS (Work Breakdown Structure)\n",
    "# The script will build a dictionary from the WBS file and create utility functions to access the data and calculate time estimates \n",
    "\n",
    "import pandas as pd\n",
    "\n",
    "WBS_FILE_PATH = 'wbs_data.csv'  # Path to the WBS file\n",
    "\n",
    "def load_wbs(file_path):\n",
    "    \"\"\"\n",
    "    Load the Work Breakdown Structure (WBS) from an Excel file.\n",
    "    \n",
    "    Args:\n",
    "        file_path (str): Path to the Excel file containing the WBS.\n",
    "        \n",
    "    Returns:\n",
    "        pd.DataFrame: DataFrame containing the WBS data.\n",
    "    \"\"\"\n",
    "    try:\n",
    "        wbs_df = pd.read_csv(file_path)\n",
    "\n",
    "        # Print some information about the loaded DataFrame\n",
    "        print(f\"WBS loaded successfully with {len(wbs_df)} rows and {len(wbs_df.columns)} columns.\")\n",
    "        print(\"Columns in WBS:\", wbs_df.columns.tolist())\n",
    "        # Optionally, display the first few rows of the DataFrame\n",
    "        print(\"First few rows of WBS:\")\n",
    "        print(wbs_df.head())\n",
    "\n",
    "        return wbs_df\n",
    "    except Exception as e:\n",
    "        print(f\"Error loading WBS file: {e}\")\n",
    "        return None\n",
    "\n",
    "df = load_wbs(WBS_FILE_PATH)\n",
    "    \n",
    "if df is None:\n",
    "    print(\"Failed to load WBS data.\")\n",
    "    df = pd.DataFrame()  # Create an empty DataFrame if loading fails"
   ]
  },
  {
   "cell_type": "code",
   "execution_count": 20,
   "id": "5544e453",
   "metadata": {},
   "outputs": [
    {
     "name": "stdout",
     "output_type": "stream",
     "text": [
      "Columns after dropping unnecessary ones: ['Description', 'Unit', 'Units', 'Consumption', 'Waste Factor', 'Unit Cost', 'Source Qty', 'Tag-Uniformat 1', 'Tag-Uniformat 2', 'Tag-Uniformat 3', 'Tag-Uniformat 4', 'Tag-CSI 1', 'Tag-CSI 2', 'Tag-Cost Type']\n"
     ]
    }
   ],
   "source": [
    "# Drop unnecessary columns\n",
    "columns_to_drop = [\n",
    "    'Code, 1', 'Code, 2', 'Code, 3', 'Code, 4', 'Code, 5', 'Code, 6', 'Tag-Labor Resource', \n",
    "    'Tag-CSI Resource 1', 'Tag-CSI Resource 2', 'Unnamed: 24', 'Node', 'Unnamed: 26', 'Unnamed: 13'\n",
    "]\n",
    "\n",
    "df.drop(columns=columns_to_drop, inplace=True, errors='ignore')\n",
    "\n",
    "print(\"Columns after dropping unnecessary ones:\", df.columns.tolist())"
   ]
  }
 ],
 "metadata": {
  "kernelspec": {
   "display_name": "Python 3",
   "language": "python",
   "name": "python3"
  },
  "language_info": {
   "codemirror_mode": {
    "name": "ipython",
    "version": 3
   },
   "file_extension": ".py",
   "mimetype": "text/x-python",
   "name": "python",
   "nbconvert_exporter": "python",
   "pygments_lexer": "ipython3",
   "version": "3.11.4"
  }
 },
 "nbformat": 4,
 "nbformat_minor": 5
}
